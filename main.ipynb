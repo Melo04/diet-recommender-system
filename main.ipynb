{
 "cells": [
  {
   "cell_type": "markdown",
   "id": "dbc7c6a2-748b-470a-9fe4-8b7b1bbf9a59",
   "metadata": {},
   "source": [
    "## Food/Diet Recommender System\n",
    "\n",
    "#### Group04 ##\n",
    "\n",
    "**Tutorial section: TT5L**\n",
    "\n",
    "| | Student ID     | Student Name                |\n",
    "|--:|:-------------|:---------------------------:|\n",
    "| 1 | 1201103207   | Melody Koh Si Jie           | \n",
    "| 2 | 1211103427   | Law Chin Keat               |\n",
    "| 3 | 1211102976   | Lee Le Xuan                 | \n",
    "| 4 | 1211200755   | Wendy Tan Wei Wei           | "
   ]
  },
  {
   "cell_type": "markdown",
   "id": "46b67471-a623-4ab3-9867-3bb13d8aa2f6",
   "metadata": {},
   "source": [
    "### 1.0 Import libraries"
   ]
  },
  {
   "cell_type": "code",
   "execution_count": 1,
   "id": "6fd5183f-fbcd-46af-a154-8be8015f9659",
   "metadata": {},
   "outputs": [],
   "source": [
    "import numpy as np\n",
    "import pandas as pd\n",
    "import matplotlib.pyplot as plt\n",
    "import seaborn as sns"
   ]
  },
  {
   "cell_type": "code",
   "execution_count": null,
   "id": "65ba2af2-e9e9-48eb-bb27-e943a1f47b4a",
   "metadata": {},
   "outputs": [],
   "source": []
  }
 ],
 "metadata": {
  "kernelspec": {
   "display_name": "Python 3 (ipykernel)",
   "language": "python",
   "name": "python3"
  },
  "language_info": {
   "codemirror_mode": {
    "name": "ipython",
    "version": 3
   },
   "file_extension": ".py",
   "mimetype": "text/x-python",
   "name": "python",
   "nbconvert_exporter": "python",
   "pygments_lexer": "ipython3",
   "version": "3.12.1"
  }
 },
 "nbformat": 4,
 "nbformat_minor": 5
}
